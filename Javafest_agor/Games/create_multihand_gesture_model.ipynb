{
 "cells": [
  {
   "cell_type": "code",
   "execution_count": 6,
   "id": "7efa812c",
   "metadata": {},
   "outputs": [
    {
     "name": "stderr",
     "output_type": "stream",
     "text": [
      "Processing labels: 100%|██████████| 9/9 [00:33<00:00,  3.67s/it]"
     ]
    },
    {
     "name": "stdout",
     "output_type": "stream",
     "text": [
      "✅ Saved 595 samples to 'processed_hand_gesture_dataset.npy'\n"
     ]
    },
    {
     "name": "stderr",
     "output_type": "stream",
     "text": [
      "\n"
     ]
    }
   ],
   "source": [
    "import os\n",
    "import cv2\n",
    "import numpy as np\n",
    "from tqdm import tqdm\n",
    "import mediapipe as mp\n",
    "from mediapipe.tasks import python\n",
    "from mediapipe.tasks.python import vision\n",
    "\n",
    "# ==== Config ====\n",
    "DATASET_PATH = \"C:/NeuroNurture/Javafest_agor/Games/models_and_datasets/gesture_dataset\"\n",
    "MODEL_PATH = \"hand_landmarker.task\"  # Your MediaPipe hand landmark model\n",
    "OUTPUT_FILE = \"processed_hand_gesture_dataset.npy\"\n",
    "\n",
    "# ==== STEP 1: Create the HandLandmarker ====\n",
    "base_options = python.BaseOptions(model_asset_path=MODEL_PATH)\n",
    "options = vision.HandLandmarkerOptions(base_options=base_options, num_hands=2)\n",
    "detector = vision.HandLandmarker.create_from_options(options)\n",
    "\n",
    "# ==== STEP 2: Utility to Extract Landmarks ====\n",
    "def extract_landmarks_from_image(image_path):\n",
    "    try:\n",
    "        mp_image = mp.Image.create_from_file(image_path)\n",
    "        result = detector.detect(mp_image)\n",
    "        if not result.hand_landmarks:\n",
    "            return None\n",
    "\n",
    "        landmarks = []\n",
    "        for hand in result.hand_landmarks:\n",
    "            for lm in hand:\n",
    "                landmarks.extend([lm.x, lm.y, lm.z])\n",
    "\n",
    "        # Pad for missing hand (if only 1 detected)\n",
    "        while len(landmarks) < 126:\n",
    "            landmarks.extend([0.0, 0.0, 0.0])\n",
    "        return landmarks\n",
    "    except:\n",
    "        return None\n",
    "\n",
    "# ==== STEP 3: Iterate over Dataset ====\n",
    "dataset = []\n",
    "\n",
    "for label in tqdm(os.listdir(DATASET_PATH), desc=\"Processing labels\"):\n",
    "    label_path = os.path.join(DATASET_PATH, label)\n",
    "    if not os.path.isdir(label_path):\n",
    "        continue\n",
    "\n",
    "    for img_name in tqdm(os.listdir(label_path), desc=f\"Processing '{label}'\", leave=False):\n",
    "        img_path = os.path.join(label_path, img_name)\n",
    "\n",
    "        if not img_name.lower().endswith(('.jpg', '.jpeg', '.png')):\n",
    "            continue\n",
    "\n",
    "        landmarks = extract_landmarks_from_image(img_path)\n",
    "        if landmarks is not None:\n",
    "            dataset.append([label, landmarks])\n",
    "\n",
    "# ==== STEP 4: Save Data ====\n",
    "np_data = np.array(dataset, dtype=object)\n",
    "np.save(OUTPUT_FILE, np_data)\n",
    "print(f\"✅ Saved {len(dataset)} samples to '{OUTPUT_FILE}'\")\n"
   ]
  },
  {
   "cell_type": "code",
   "execution_count": 7,
   "id": "7692d8f2",
   "metadata": {},
   "outputs": [
    {
     "name": "stdout",
     "output_type": "stream",
     "text": [
      "(595, 126)\n",
      "(595,)\n"
     ]
    }
   ],
   "source": [
    "import numpy as np\n",
    "from sklearn.model_selection import train_test_split\n",
    "from sklearn.metrics import accuracy_score\n",
    "from sklearn.ensemble import RandomForestClassifier, GradientBoostingClassifier\n",
    "from sklearn.linear_model import LogisticRegression\n",
    "from sklearn.svm import SVC\n",
    "from sklearn.neighbors import KNeighborsClassifier\n",
    "from sklearn.tree import DecisionTreeClassifier\n",
    "from xgboost import XGBClassifier\n",
    "\n",
    "# Load the data if saved earlier\n",
    "data = np.load(\"processed_hand_gesture_dataset.npy\", allow_pickle=True)\n",
    "\n",
    "# Separate features and labels\n",
    "X = []\n",
    "y = []\n",
    "\n",
    "for label, landmarks in data:\n",
    "    X.append(landmarks)\n",
    "    y.append(label)\n",
    "\n",
    "X = np.array(X)\n",
    "y = np.array(y)\n",
    "print(np.shape(X))\n",
    "print(np.shape(y))\n",
    "\n",
    "\n"
   ]
  },
  {
   "cell_type": "code",
   "execution_count": 8,
   "id": "5816d3bb",
   "metadata": {},
   "outputs": [],
   "source": [
    "X_train, X_test, y_train, y_test = train_test_split(X, y, test_size=0.2, random_state=42)"
   ]
  },
  {
   "cell_type": "code",
   "execution_count": 9,
   "id": "95aa2ab1",
   "metadata": {},
   "outputs": [
    {
     "name": "stdout",
     "output_type": "stream",
     "text": [
      "🔍 Accuracy Results:\n",
      "\n",
      "Random Forest        : 0.8992\n",
      "Logistic Regression  : 0.9076\n",
      "SVM (RBF Kernel)     : 0.6471\n",
      "KNN                  : 0.8487\n",
      "Decision Tree        : 0.8235\n",
      "Gradient Boosting    : 0.9412\n"
     ]
    }
   ],
   "source": [
    "# Define classifiers\n",
    "models = {\n",
    "    \"Random Forest\": RandomForestClassifier(n_estimators=150, random_state=42),\n",
    "    \"Logistic Regression\": LogisticRegression(max_iter=2000),\n",
    "    \"SVM (RBF Kernel)\": SVC(kernel='rbf'),\n",
    "    \"KNN\": KNeighborsClassifier(n_neighbors=3),\n",
    "    \"Decision Tree\": DecisionTreeClassifier(),\n",
    "    \"Gradient Boosting\": GradientBoostingClassifier()\n",
    "}\n",
    "\n",
    "# Evaluate each model\n",
    "print(\"🔍 Accuracy Results:\\n\")\n",
    "for name, model in models.items():\n",
    "    model.fit(X_train, y_train)\n",
    "    y_pred = model.predict(X_test)\n",
    "    acc = accuracy_score(y_test, y_pred)\n",
    "    print(f\"{name:<20} : {acc:.4f}\")"
   ]
  },
  {
   "cell_type": "code",
   "execution_count": 11,
   "id": "2e9ba8b7",
   "metadata": {},
   "outputs": [
    {
     "name": "stdout",
     "output_type": "stream",
     "text": [
      "Accuracy: 0.9160\n",
      "✅ Model saved as 'gesture_model.pkl'\n"
     ]
    }
   ],
   "source": [
    "import joblib\n",
    "model = GradientBoostingClassifier()\n",
    "model.fit(X_train, y_train)\n",
    "y_pred = model.predict(X_test)\n",
    "acc = accuracy_score(y_test, y_pred)\n",
    "print(f\"Accuracy: {acc:.4f}\")\n",
    "# Save model\n",
    "joblib.dump(model, \"gesture_model.pkl\")\n",
    "print(\"✅ Model saved as 'gesture_model.pkl'\")\n"
   ]
  },
  {
   "cell_type": "code",
   "execution_count": null,
   "id": "557ed5c7",
   "metadata": {},
   "outputs": [],
   "source": []
  }
 ],
 "metadata": {
  "kernelspec": {
   "display_name": "tf_gpu",
   "language": "python",
   "name": "python3"
  },
  "language_info": {
   "codemirror_mode": {
    "name": "ipython",
    "version": 3
   },
   "file_extension": ".py",
   "mimetype": "text/x-python",
   "name": "python",
   "nbconvert_exporter": "python",
   "pygments_lexer": "ipython3",
   "version": "3.10.16"
  }
 },
 "nbformat": 4,
 "nbformat_minor": 5
}
